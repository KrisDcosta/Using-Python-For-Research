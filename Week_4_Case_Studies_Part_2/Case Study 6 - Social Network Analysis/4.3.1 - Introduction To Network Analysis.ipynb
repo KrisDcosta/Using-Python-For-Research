{
 "cells": [
  {
   "cell_type": "markdown",
   "metadata": {
    "collapsed": true
   },
   "source": [
    "##### Week 4\n",
    "\n",
    "#### Q1: Introduction to Network Analysis\n",
    "\n",
    "What is a path in a network?\n",
    "\n",
    "1. An edge\n",
    "2. A generalized edge that connects distant nodes\n",
    "3. **A sequence of edges connecting two nodes**\n",
    "\n",
    "#### Q2: Introduction to Network Analysis\n",
    "\n",
    "What is a connected component in a network?\n",
    "\n",
    "1. **A group of nodes and their edges for which a path exists between each node in the component**\n",
    "2. Any subgroup of nodes\n",
    "3. The set of either nodes or edges in the network"
   ]
  }
 ],
 "metadata": {
  "anaconda-cloud": {},
  "kernelspec": {
   "display_name": "Python 3",
   "language": "python",
   "name": "python3"
  },
  "language_info": {
   "codemirror_mode": {
    "name": "ipython",
    "version": 3
   },
   "file_extension": ".py",
   "mimetype": "text/x-python",
   "name": "python",
   "nbconvert_exporter": "python",
   "pygments_lexer": "ipython3",
   "version": "3.7.1"
  }
 },
 "nbformat": 4,
 "nbformat_minor": 1
}

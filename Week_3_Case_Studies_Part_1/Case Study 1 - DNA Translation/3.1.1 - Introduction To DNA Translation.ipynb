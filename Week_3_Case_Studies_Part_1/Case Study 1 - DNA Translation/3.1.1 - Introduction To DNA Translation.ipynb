{
 "cells": [
  {
   "cell_type": "markdown",
   "metadata": {},
   "source": [
    "#### Q1: Introduction to DNA Translation\n",
    "\n",
    "Which of the following is NOT a nucleotide?\n",
    "\n",
    "1. Adenine\n",
    "2. Cytosine\n",
    "3. Guanine\n",
    "4. **Lysine**\n",
    "5. Thymine "
   ]
  },
  {
   "cell_type": "markdown",
   "metadata": {
    "collapsed": true
   },
   "source": [
    "#### Q2: Introduction to DNA Translation\n",
    "\n",
    "\n",
    "What is the central dogma of molecular biology that describes the basic flow of genetic information?\n",
    "\n",
    "1. **DNA -> RNA -> Protein**\n",
    "2. RNA -> DNA -> Protein\n",
    "3. RNA -> RNA -> Protein\n",
    "4. DNA -> Protein -> RNA "
   ]
  },
  {
   "cell_type": "code",
   "execution_count": null,
   "metadata": {
    "collapsed": true
   },
   "outputs": [],
   "source": []
  }
 ],
 "metadata": {
  "anaconda-cloud": {},
  "kernelspec": {
   "display_name": "Python 3",
   "language": "python",
   "name": "python3"
  },
  "language_info": {
   "codemirror_mode": {
    "name": "ipython",
    "version": 3
   },
   "file_extension": ".py",
   "mimetype": "text/x-python",
   "name": "python",
   "nbconvert_exporter": "python",
   "pygments_lexer": "ipython3",
   "version": "3.7.1"
  }
 },
 "nbformat": 4,
 "nbformat_minor": 1
}

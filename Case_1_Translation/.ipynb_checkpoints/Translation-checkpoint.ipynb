{
 "cells": [
  {
   "cell_type": "code",
   "execution_count": null,
   "id": "e4916c77",
   "metadata": {},
   "outputs": [],
   "source": [
    "# Using Python For Research EdX \n",
    "# Case Study 1: DNA Translation"
   ]
  },
  {
   "cell_type": "code",
   "execution_count": 23,
   "id": "0aaed4bd",
   "metadata": {},
   "outputs": [],
   "source": [
    "def seq_calc(seq):\n",
    "    ''' Translate a string containing a nucleotide sequence into a string \n",
    "    containing the corresponding sequence of amino acids. Nucleotides are \n",
    "    translated in triplets using the table dictionary; each amino acid is \n",
    "    enccoded with a string of length l.'''\n",
    "    \n",
    "    table = {\n",
    "        'ATA':'I', 'ATC':'I', 'ATT':'I', 'ATG':'M',\n",
    "        'ACA':'T', 'ACC':'T', 'ACG':'T', 'ACT':'T',\n",
    "        'AAC':'N', 'AAT':'N', 'AAA':'K', 'AAG':'K',\n",
    "        'AGC':'S', 'AGT':'S', 'AGA':'R', 'AGG':'R',\n",
    "        'CTA':'L', 'CTC':'L', 'CTG':'L', 'CTT':'L',\n",
    "        'CCA':'P', 'CCC':'P', 'CCG':'P', 'CCT':'P',\n",
    "        'CAC':'H', 'CAT':'H', 'CAA':'Q', 'CAG':'Q',\n",
    "        'CGA':'R', 'CGC':'R', 'CGG':'R', 'CGT':'R',\n",
    "        'GTA':'V', 'GTC':'V', 'GTG':'V', 'GTT':'V',\n",
    "        'GCA':'A', 'GCC':'A', 'GCG':'A', 'GCT':'A',\n",
    "        'GAC':'D', 'GAT':'D', 'GAA':'E', 'GAG':'E',\n",
    "        'GGA':'G', 'GGC':'G', 'GGG':'G', 'GGT':'G',\n",
    "        'TCA':'S', 'TCC':'S', 'TCG':'S', 'TCT':'S',\n",
    "        'TTC':'F', 'TTT':'F', 'TTA':'L', 'TTG':'L',\n",
    "        'TAC':'Y', 'TAT':'Y', 'TAA':'_', 'TAG':'_',\n",
    "        'TGC':'C', 'TGT':'C', 'TGA':'_', 'TGG':'W',\n",
    "    }\n",
    "    protein = \"\"\n",
    "    if len(seq)%3 == 0:\n",
    "        for i in range(0, len(seq),3):\n",
    "            codon = seq[i:i+3]\n",
    "            protein += table[codon]\n",
    "#             print(codon,\":\", table[codon])\n",
    "    return protein"
   ]
  },
  {
   "cell_type": "code",
   "execution_count": 11,
   "id": "7e4bb9f7",
   "metadata": {},
   "outputs": [
    {
     "data": {
      "text/plain": [
       "8"
      ]
     },
     "execution_count": 11,
     "metadata": {},
     "output_type": "execute_result"
    }
   ],
   "source": [
    "# Translating DNA Sequence: Q2\n",
    "138%13"
   ]
  },
  {
   "cell_type": "code",
   "execution_count": null,
   "id": "e8d04d46",
   "metadata": {},
   "outputs": [],
   "source": [
    "MSTHDTSLKTTEEVAFQIILLCQFGVGTFANVFLFVYNFSPIST\n",
    "GSKQRPRQVILRHMAVANALTLFLTIFPNNMMTFAPIIPQTDLKCKLEFFTRLVARST\n",
    "NLCSTCVLSIHQFVTLVPVNSGKGILRASVTNMASYSCYSCWFFSVLNNIYIPIKVTG\n",
    "PQLTDNNNNSKSKLFCSTSDFSVGIVFLRFAHDATFMSIMVWTSVSMVLLLHRHCQRM\n",
    "QYIFTLNQDPRGQAETTATHTILMLVVTFVGFYLLSLICIIFYTYFIYSHHSLRHCND\n",
    "ILVSGFPTISPLLLTFRDPKGPCSVFFNC"
   ]
  },
  {
   "cell_type": "code",
   "execution_count": 3,
   "id": "a901be8e",
   "metadata": {},
   "outputs": [],
   "source": [
    "def seq_read(inputfile):\n",
    "    ''' \n",
    "    Reads a sequence from a specified text file and removes any newline or   \n",
    "    carriage return characters.  \n",
    "\n",
    "    This function opens the given input file, reads its entire content,   \n",
    "    and removes all newline (`\\n`) and carriage return (`\\r`) characters   \n",
    "    to return a continuous string of characters.\n",
    "    '''\n",
    "    with open(inputfile) as f:\n",
    "        seq = f.read()\n",
    "    seq = seq.replace(\"\\n\", \"\")\n",
    "    seq = seq.replace(\"\\r\", \"\")\n",
    "    return seq\n",
    "    "
   ]
  },
  {
   "cell_type": "code",
   "execution_count": 4,
   "id": "b5c4db15",
   "metadata": {
    "scrolled": false
   },
   "outputs": [
    {
     "name": "stdout",
     "output_type": "stream",
     "text": [
      "ATG : M\n",
      "TCT : S\n",
      "ACT : T\n",
      "CAC : H\n",
      "GAT : D\n",
      "ACA : T\n",
      "TCC : S\n",
      "CTG : L\n",
      "AAA : K\n",
      "ACC : T\n",
      "ACT : T\n",
      "GAG : E\n",
      "GAA : E\n",
      "GTG : V\n",
      "GCT : A\n",
      "TTT : F\n",
      "CAG : Q\n",
      "ATC : I\n",
      "ATC : I\n",
      "TTG : L\n",
      "CTT : L\n",
      "TGC : C\n",
      "CAG : Q\n",
      "TTT : F\n",
      "GGG : G\n",
      "GTT : V\n",
      "GGG : G\n",
      "ACT : T\n",
      "TTT : F\n",
      "GCC : A\n",
      "AAT : N\n",
      "GTA : V\n",
      "TTT : F\n",
      "CTC : L\n",
      "TTT : F\n",
      "GTC : V\n",
      "TAT : Y\n",
      "AAT : N\n",
      "TTC : F\n",
      "TCT : S\n",
      "CCA : P\n",
      "ATC : I\n",
      "TCG : S\n",
      "ACT : T\n",
      "GGT : G\n",
      "TCT : S\n",
      "AAA : K\n",
      "CAG : Q\n",
      "AGG : R\n",
      "CCC : P\n",
      "AGA : R\n",
      "CAA : Q\n",
      "GTG : V\n",
      "ATT : I\n",
      "TTA : L\n",
      "AGA : R\n",
      "CAC : H\n",
      "ATG : M\n",
      "GCT : A\n",
      "GTG : V\n",
      "GCC : A\n",
      "AAT : N\n",
      "GCC : A\n",
      "TTA : L\n",
      "ACT : T\n",
      "CTC : L\n",
      "TTC : F\n",
      "CTC : L\n",
      "ACT : T\n",
      "ATA : I\n",
      "TTT : F\n",
      "CCA : P\n",
      "AAC : N\n",
      "AAC : N\n",
      "ATG : M\n",
      "ATG : M\n",
      "ACT : T\n",
      "TTT : F\n",
      "GCT : A\n",
      "CCA : P\n",
      "ATT : I\n",
      "ATT : I\n",
      "CCT : P\n",
      "CAA : Q\n",
      "ACT : T\n",
      "GAC : D\n",
      "CTC : L\n",
      "AAA : K\n",
      "TGT : C\n",
      "AAA : K\n",
      "TTA : L\n",
      "GAA : E\n",
      "TTC : F\n",
      "TTC : F\n",
      "ACT : T\n",
      "CGC : R\n",
      "CTC : L\n",
      "GTG : V\n",
      "GCA : A\n",
      "AGA : R\n",
      "AGC : S\n",
      "ACA : T\n",
      "AAC : N\n",
      "TTG : L\n",
      "TGT : C\n",
      "TCA : S\n",
      "ACT : T\n",
      "TGT : C\n",
      "GTT : V\n",
      "CTG : L\n",
      "AGT : S\n",
      "ATC : I\n",
      "CAT : H\n",
      "CAG : Q\n",
      "TTT : F\n",
      "GTC : V\n",
      "ACA : T\n",
      "CTT : L\n",
      "GTT : V\n",
      "CCT : P\n",
      "GTT : V\n",
      "AAT : N\n",
      "TCA : S\n",
      "GGT : G\n",
      "AAA : K\n",
      "GGA : G\n",
      "ATA : I\n",
      "CTC : L\n",
      "AGA : R\n",
      "GCA : A\n",
      "AGT : S\n",
      "GTC : V\n",
      "ACA : T\n",
      "AAC : N\n",
      "ATG : M\n",
      "GCA : A\n",
      "AGT : S\n",
      "TAT : Y\n",
      "TCT : S\n",
      "TGT : C\n",
      "TAC : Y\n",
      "AGT : S\n",
      "TGT : C\n",
      "TGG : W\n",
      "TTC : F\n",
      "TTC : F\n",
      "AGT : S\n",
      "GTC : V\n",
      "TTA : L\n",
      "AAT : N\n",
      "AAC : N\n",
      "ATC : I\n",
      "TAC : Y\n",
      "ATT : I\n",
      "CCA : P\n",
      "ATT : I\n",
      "AAG : K\n",
      "GTC : V\n",
      "ACT : T\n",
      "GGT : G\n",
      "CCA : P\n",
      "CAG : Q\n",
      "TTA : L\n",
      "ACA : T\n",
      "GAC : D\n",
      "AAT : N\n",
      "AAC : N\n",
      "AAT : N\n",
      "AAC : N\n",
      "TCT : S\n",
      "AAA : K\n",
      "AGC : S\n",
      "AAG : K\n",
      "TTG : L\n",
      "TTC : F\n",
      "TGT : C\n",
      "TCC : S\n",
      "ACT : T\n",
      "TCT : S\n",
      "GAT : D\n",
      "TTC : F\n",
      "AGT : S\n",
      "GTA : V\n",
      "GGC : G\n",
      "ATT : I\n",
      "GTC : V\n",
      "TTC : F\n",
      "TTG : L\n",
      "AGG : R\n",
      "TTT : F\n",
      "GCC : A\n",
      "CAT : H\n",
      "GAT : D\n",
      "GCC : A\n",
      "ACA : T\n",
      "TTC : F\n",
      "ATG : M\n",
      "AGC : S\n",
      "ATC : I\n",
      "ATG : M\n",
      "GTC : V\n",
      "TGG : W\n",
      "ACC : T\n",
      "AGT : S\n",
      "GTC : V\n",
      "TCC : S\n",
      "ATG : M\n",
      "GTA : V\n",
      "CTT : L\n",
      "CTC : L\n",
      "CTC : L\n",
      "CAT : H\n",
      "AGA : R\n",
      "CAT : H\n",
      "TGT : C\n",
      "CAG : Q\n",
      "AGA : R\n",
      "ATG : M\n",
      "CAG : Q\n",
      "TAC : Y\n",
      "ATA : I\n",
      "TTC : F\n",
      "ACT : T\n",
      "CTC : L\n",
      "AAT : N\n",
      "CAG : Q\n",
      "GAC : D\n",
      "CCC : P\n",
      "AGG : R\n",
      "GGC : G\n",
      "CAA : Q\n",
      "GCA : A\n",
      "GAG : E\n",
      "ACC : T\n",
      "ACA : T\n",
      "GCA : A\n",
      "ACC : T\n",
      "CAT : H\n",
      "ACT : T\n",
      "ATC : I\n",
      "CTG : L\n",
      "ATG : M\n",
      "CTG : L\n",
      "GTA : V\n",
      "GTC : V\n",
      "ACA : T\n",
      "TTT : F\n",
      "GTT : V\n",
      "GGC : G\n",
      "TTT : F\n",
      "TAT : Y\n",
      "CTT : L\n",
      "CTA : L\n",
      "AGT : S\n",
      "CTT : L\n",
      "ATT : I\n",
      "TGT : C\n",
      "ATC : I\n",
      "ATC : I\n",
      "TTT : F\n",
      "TAC : Y\n",
      "ACC : T\n",
      "TAT : Y\n",
      "TTT : F\n",
      "ATA : I\n",
      "TAT : Y\n",
      "TCT : S\n",
      "CAT : H\n",
      "CAT : H\n",
      "TCC : S\n",
      "CTG : L\n",
      "AGG : R\n",
      "CAT : H\n",
      "TGC : C\n",
      "AAT : N\n",
      "GAC : D\n",
      "ATT : I\n",
      "TTG : L\n",
      "GTT : V\n",
      "TCG : S\n",
      "GGT : G\n",
      "TTC : F\n",
      "CCT : P\n",
      "ACA : T\n",
      "ATT : I\n",
      "TCT : S\n",
      "CCT : P\n",
      "TTA : L\n",
      "CTG : L\n",
      "TTG : L\n",
      "ACC : T\n",
      "TTC : F\n",
      "AGA : R\n",
      "GAC : D\n",
      "CCT : P\n",
      "AAG : K\n",
      "GGT : G\n",
      "CCT : P\n",
      "TGT : C\n",
      "TCT : S\n",
      "GTG : V\n",
      "TTC : F\n",
      "TTC : F\n",
      "AAC : N\n",
      "TGT : C\n",
      "TGA : _\n"
     ]
    }
   ],
   "source": [
    "inputdna = \"DNA.txt\"\n",
    "inputprot = \"protein.txt\"\n",
    "dna = seq_read(inputdna)\n",
    "ans = seq_read(inputprot)\n",
    "prot_c = seq_calc(dna[20:938])"
   ]
  },
  {
   "cell_type": "code",
   "execution_count": 12,
   "id": "6e246799",
   "metadata": {},
   "outputs": [
    {
     "data": {
      "text/plain": [
       "'CCTGAAAACC'"
      ]
     },
     "execution_count": 12,
     "metadata": {},
     "output_type": "execute_result"
    }
   ],
   "source": [
    "# Translating DNA Sequence: Q3\n",
    "dna[40:50]"
   ]
  },
  {
   "cell_type": "code",
   "execution_count": 9,
   "id": "138937c0",
   "metadata": {
    "scrolled": true
   },
   "outputs": [
    {
     "name": "stdout",
     "output_type": "stream",
     "text": [
      "ATA : I\n"
     ]
    },
    {
     "data": {
      "text/plain": [
       "'I'"
      ]
     },
     "execution_count": 9,
     "metadata": {},
     "output_type": "execute_result"
    }
   ],
   "source": [
    "seq_calc(\"ATA\")"
   ]
  },
  {
   "cell_type": "code",
   "execution_count": 5,
   "id": "9b35c9a9",
   "metadata": {},
   "outputs": [
    {
     "data": {
      "text/plain": [
       "'MSTHDTSLKTTEEVAFQIILLCQFGVGTFANVFLFVYNFSPISTGSKQRPRQVILRHMAVANALTLFLTIFPNNMMTFAPIIPQTDLKCKLEFFTRLVARSTNLCSTCVLSIHQFVTLVPVNSGKGILRASVTNMASYSCYSCWFFSVLNNIYIPIKVTGPQLTDNNNNSKSKLFCSTSDFSVGIVFLRFAHDATFMSIMVWTSVSMVLLLHRHCQRMQYIFTLNQDPRGQAETTATHTILMLVVTFVGFYLLSLICIIFYTYFIYSHHSLRHCNDILVSGFPTISPLLLTFRDPKGPCSVFFNC_'"
      ]
     },
     "execution_count": 5,
     "metadata": {},
     "output_type": "execute_result"
    }
   ],
   "source": [
    "prot_c"
   ]
  },
  {
   "cell_type": "code",
   "execution_count": 7,
   "id": "8a89f561",
   "metadata": {},
   "outputs": [
    {
     "data": {
      "text/plain": [
       "True"
      ]
     },
     "execution_count": 7,
     "metadata": {},
     "output_type": "execute_result"
    }
   ],
   "source": [
    "# Checking if both downloaded and translated protein are the same (After skipping the last codon '_')\n",
    "prot_c[:-1] == ans"
   ]
  },
  {
   "cell_type": "code",
   "execution_count": 25,
   "id": "d5cde738",
   "metadata": {},
   "outputs": [
    {
     "data": {
      "text/plain": [
       "True"
      ]
     },
     "execution_count": 25,
     "metadata": {},
     "output_type": "execute_result"
    }
   ],
   "source": [
    "# Comparing your translation: Q2\n",
    "a = seq_calc(dna[20:938])[:-1]\n",
    "b = seq_calc(dna[20:935])\n",
    "\n",
    "a == b"
   ]
  }
 ],
 "metadata": {
  "kernelspec": {
   "display_name": "Python 3 (ipykernel)",
   "language": "python",
   "name": "python3"
  },
  "language_info": {
   "codemirror_mode": {
    "name": "ipython",
    "version": 3
   },
   "file_extension": ".py",
   "mimetype": "text/x-python",
   "name": "python",
   "nbconvert_exporter": "python",
   "pygments_lexer": "ipython3",
   "version": "3.10.9"
  }
 },
 "nbformat": 4,
 "nbformat_minor": 5
}
